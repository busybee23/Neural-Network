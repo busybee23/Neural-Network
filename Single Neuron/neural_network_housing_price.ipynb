{
  "nbformat": 4,
  "nbformat_minor": 0,
  "metadata": {
    "colab": {
      "name": "neural_network- hello world ",
      "provenance": [],
      "collapsed_sections": []
    },
    "kernelspec": {
      "name": "python3",
      "display_name": "Python 3"
    }
  },
  "cells": [
    {
      "cell_type": "code",
      "metadata": {
        "id": "isrkHdBnVEkn",
        "colab_type": "code",
        "colab": {}
      },
      "source": [
        "import tensorflow as tf\n",
        "import numpy as np\n",
        "from tensorflow import keras"
      ],
      "execution_count": 1,
      "outputs": []
    },
    {
      "cell_type": "markdown",
      "metadata": {
        "id": "5INpfowoWJ-l",
        "colab_type": "text"
      },
      "source": [
        "Creating Model to relate and fit"
      ]
    },
    {
      "cell_type": "code",
      "metadata": {
        "id": "GFBycgmxVNkX",
        "colab_type": "code",
        "colab": {}
      },
      "source": [
        "# def function house model \n",
        "def house_model(y_new):\n",
        "    xs = np.array([1.0,2.0,3.0,4.0,5.0,6.0], dtype=float) \n",
        "    ys = np.array([1.0,1.5,2.0,2.5,3.0,3.5], dtype=float)\n",
        "    model = model = tf.keras.Sequential([keras.layers.Dense(units=1, input_shape=[1])])\n",
        "    model.compile(optimizer='sgd', loss='mean_squared_error')\n",
        "    model.fit(xs, ys, epochs=5000)\n",
        "    return model.predict(y_new)[0]"
      ],
      "execution_count": 2,
      "outputs": []
    },
    {
      "cell_type": "markdown",
      "metadata": {
        "id": "VN502OFXWSrV",
        "colab_type": "text"
      },
      "source": [
        "New Prediction "
      ]
    },
    {
      "cell_type": "code",
      "metadata": {
        "id": "l60MNN6VVRwj",
        "colab_type": "code",
        "colab": {}
      },
      "source": [
        "prediction = house_model([7.0])\n",
        "print(prediction)"
      ],
      "execution_count": null,
      "outputs": []
    }
  ]
}