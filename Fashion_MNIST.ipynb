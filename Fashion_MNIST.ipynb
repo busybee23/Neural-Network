{
  "nbformat": 4,
  "nbformat_minor": 0,
  "metadata": {
    "colab": {
      "name": "Untitled5.ipynb",
      "provenance": [],
      "collapsed_sections": [],
      "authorship_tag": "ABX9TyN3RuduDaOiALy9zT4M1T1N",
      "include_colab_link": true
    },
    "kernelspec": {
      "name": "python3",
      "display_name": "Python 3"
    }
  },
  "cells": [
    {
      "cell_type": "markdown",
      "metadata": {
        "id": "view-in-github",
        "colab_type": "text"
      },
      "source": [
        "<a href=\"https://colab.research.google.com/github/busybee23/Neural-Networks/blob/master/Fashion_MNIST.ipynb\" target=\"_parent\"><img src=\"https://colab.research.google.com/assets/colab-badge.svg\" alt=\"Open In Colab\"/></a>"
      ]
    },
    {
      "cell_type": "code",
      "metadata": {
        "id": "Os1-Nq5GlgcV",
        "colab_type": "code",
        "colab": {}
      },
      "source": [
        "\n",
        "import tensorflow as tf\n",
        "mnist = tf.keras.datasets.fashion_mnist\n",
        "\n",
        "class myCallback(tf.keras.callbacks.Callback):\n",
        "  def on_epoch_end(self, epoch, logs={}):\n",
        "    if(logs.get('accuracy')>0.99):\n",
        "      print(\"\\nReached 98% accuracy so cancelling training!\")\n",
        "      self.model.stop_training = True"
      ],
      "execution_count": 32,
      "outputs": []
    },
    {
      "cell_type": "code",
      "metadata": {
        "id": "m2uM36DFlkAc",
        "colab_type": "code",
        "colab": {}
      },
      "source": [
        "(X_train, y_train) ,(X_test, y_test) = mnist.load_data()\n",
        "X_test = X_test / 255.0 \n",
        "X_train = X_train / 255.0\n"
      ],
      "execution_count": 33,
      "outputs": []
    },
    {
      "cell_type": "code",
      "metadata": {
        "id": "oymFh5YNloCY",
        "colab_type": "code",
        "colab": {
          "base_uri": "https://localhost:8080/",
          "height": 1000
        },
        "outputId": "692d0021-bba3-45b6-e6e9-3ba13bf17859"
      },
      "source": [
        "import numpy as np\n",
        "np.set_printoptions(linewidth =200)\n",
        "import matplotlib.pyplot as plt\n",
        "plt.imshow(X_train[880], cmap='gray')\n",
        "print(X_train[880])"
      ],
      "execution_count": 34,
      "outputs": [
        {
          "output_type": "stream",
          "text": [
            "[[0.         0.         0.         0.         0.         0.         0.00392157 0.         0.         0.         0.         0.01176471 0.         0.         0.         0.         0.\n",
            "  0.04313725 0.         0.         0.         0.         0.00784314 0.         0.         0.         0.         0.        ]\n",
            " [0.         0.         0.         0.         0.         0.         0.         0.         0.         0.22745098 0.63137255 0.81568627 0.74117647 0.65882353 0.63529412 0.63921569 0.75294118\n",
            "  0.8627451  0.63529412 0.42745098 0.05490196 0.         0.         0.00392157 0.         0.         0.         0.        ]\n",
            " [0.         0.         0.         0.         0.00392157 0.         0.         0.50588235 0.73333333 0.81960784 0.80784314 0.77254902 0.81568627 0.81568627 0.78431373 0.81568627 0.81568627\n",
            "  0.76862745 0.8        0.82745098 0.79215686 0.64313725 0.         0.         0.         0.         0.         0.        ]\n",
            " [0.         0.         0.         0.         0.         0.         0.56078431 0.83921569 0.74117647 0.74117647 0.74509804 0.75294118 0.74117647 0.74117647 0.71372549 0.7372549  0.74509804\n",
            "  0.74509804 0.74901961 0.74117647 0.74509804 0.81568627 0.68235294 0.         0.         0.         0.         0.        ]\n",
            " [0.         0.         0.         0.         0.         0.01960784 0.75294118 0.7254902  0.73333333 0.75294118 0.74901961 0.75294118 0.74509804 0.74117647 0.74509804 0.7372549  0.75686275\n",
            "  0.76078431 0.74901961 0.74901961 0.75294118 0.7254902  0.78823529 0.16862745 0.         0.         0.         0.        ]\n",
            " [0.         0.         0.         0.         0.         0.41960784 0.81176471 0.74117647 0.74509804 0.75294118 0.74117647 0.7372549  0.74509804 0.74117647 0.74901961 0.74117647 0.74901961\n",
            "  0.74509804 0.75686275 0.76078431 0.75686275 0.74509804 0.80784314 0.51764706 0.         0.         0.         0.        ]\n",
            " [0.         0.         0.         0.         0.         0.60784314 0.83921569 0.78039216 0.7372549  0.74509804 0.73333333 0.74509804 0.74117647 0.74117647 0.74509804 0.74509804 0.74509804\n",
            "  0.74901961 0.74117647 0.76078431 0.75294118 0.77254902 0.82352941 0.7254902  0.         0.         0.         0.        ]\n",
            " [0.         0.         0.         0.         0.         0.8        0.81176471 0.83529412 0.70196078 0.75294118 0.74117647 0.74117647 0.74117647 0.74117647 0.74509804 0.74509804 0.74509804\n",
            "  0.74509804 0.74901961 0.75294118 0.70980392 0.82745098 0.80784314 0.85490196 0.         0.         0.         0.        ]\n",
            " [0.         0.         0.         0.         0.01176471 0.89411765 0.76862745 0.89019608 0.80784314 0.72156863 0.76078431 0.7372549  0.74509804 0.7372549  0.74509804 0.74509804 0.74117647\n",
            "  0.74901961 0.75686275 0.72156863 0.77647059 0.89803922 0.77647059 0.91372549 0.1254902  0.         0.         0.        ]\n",
            " [0.         0.         0.         0.         0.21960784 0.8        0.77254902 0.91372549 0.91764706 0.70980392 0.75294118 0.75686275 0.76078431 0.74901961 0.75294118 0.75686275 0.75686275\n",
            "  0.77254902 0.78823529 0.70196078 0.9372549  0.9254902  0.77647059 0.80784314 0.30588235 0.         0.         0.        ]\n",
            " [0.         0.         0.         0.         0.28235294 0.79607843 0.76470588 0.90588235 0.93333333 0.66666667 0.75686275 0.75686275 0.74509804 0.75686275 0.75294118 0.75294118 0.76078431\n",
            "  0.74901961 0.79215686 0.6745098  0.90196078 0.91764706 0.76862745 0.79607843 0.38823529 0.         0.         0.        ]\n",
            " [0.         0.         0.         0.         0.56862745 0.86666667 0.86666667 0.99215686 0.84705882 0.67843137 0.76862745 0.75686275 0.75686275 0.74901961 0.75294118 0.75294118 0.75686275\n",
            "  0.76470588 0.74117647 0.72156863 0.81176471 1.         0.87058824 0.8627451  0.63529412 0.         0.         0.        ]\n",
            " [0.         0.         0.         0.         0.14901961 0.27843137 0.26666667 0.2745098  0.1254902  0.79607843 0.76862745 0.75294118 0.75294118 0.74901961 0.74901961 0.75686275 0.75294118\n",
            "  0.77647059 0.7372549  0.82745098 0.20784314 0.23137255 0.27843137 0.2627451  0.18431373 0.         0.         0.        ]\n",
            " [0.         0.         0.         0.         0.         0.         0.         0.         0.         0.86666667 0.74509804 0.7372549  0.75294118 0.75686275 0.74901961 0.75294118 0.75686275\n",
            "  0.76470588 0.76862745 0.89019608 0.07058824 0.         0.         0.         0.         0.         0.         0.        ]\n",
            " [0.         0.         0.         0.         0.01960784 0.01568627 0.02745098 0.         0.03921569 0.88235294 0.74117647 0.73333333 0.76470588 0.75294118 0.74901961 0.75294118 0.76078431\n",
            "  0.74509804 0.77647059 0.79215686 0.18039216 0.         0.02352941 0.01568627 0.02352941 0.         0.         0.        ]\n",
            " [0.         0.         0.         0.         0.         0.         0.01176471 0.         0.04705882 0.74509804 0.74509804 0.74509804 0.74509804 0.75294118 0.75294118 0.75294118 0.76470588\n",
            "  0.74117647 0.76470588 0.81568627 0.21176471 0.         0.00784314 0.         0.         0.         0.         0.        ]\n",
            " [0.         0.         0.         0.         0.         0.         0.01568627 0.         0.02352941 0.74117647 0.7372549  0.75686275 0.75294118 0.74509804 0.74901961 0.76470588 0.75686275\n",
            "  0.75294118 0.74901961 0.82352941 0.23921569 0.         0.01960784 0.         0.         0.         0.         0.        ]\n",
            " [0.         0.         0.         0.         0.         0.         0.01568627 0.         0.02352941 0.74117647 0.7372549  0.75294118 0.75686275 0.74509804 0.75294118 0.75686275 0.75686275\n",
            "  0.76078431 0.7372549  0.8        0.25098039 0.         0.00784314 0.         0.         0.         0.         0.        ]\n",
            " [0.         0.         0.         0.         0.         0.         0.01568627 0.         0.02745098 0.74117647 0.7372549  0.75686275 0.75294118 0.74509804 0.76078431 0.75686275 0.75686275\n",
            "  0.76862745 0.73333333 0.8        0.32156863 0.         0.00784314 0.         0.         0.         0.         0.        ]\n",
            " [0.         0.         0.         0.         0.         0.         0.01568627 0.         0.01568627 0.7372549  0.74117647 0.75294118 0.75686275 0.75294118 0.76470588 0.74901961 0.75686275\n",
            "  0.78039216 0.74117647 0.78431373 0.40392157 0.         0.00784314 0.         0.         0.         0.         0.        ]\n",
            " [0.         0.         0.         0.         0.         0.         0.01176471 0.         0.         0.7254902  0.74509804 0.75294118 0.76078431 0.76078431 0.76862745 0.76078431 0.76078431\n",
            "  0.77254902 0.76078431 0.76470588 0.44313725 0.         0.00784314 0.         0.         0.         0.         0.        ]\n",
            " [0.         0.         0.         0.         0.         0.         0.01176471 0.         0.         0.72941176 0.74901961 0.74901961 0.76078431 0.76078431 0.76470588 0.76470588 0.75686275\n",
            "  0.74117647 0.75294118 0.77647059 0.43137255 0.         0.00784314 0.         0.         0.         0.         0.        ]\n",
            " [0.         0.         0.         0.         0.         0.         0.01176471 0.         0.         0.7372549  0.75686275 0.74901961 0.76078431 0.76078431 0.77647059 0.76078431 0.77647059\n",
            "  0.76862745 0.73333333 0.78823529 0.45098039 0.         0.00784314 0.         0.         0.         0.         0.        ]\n",
            " [0.         0.         0.         0.         0.         0.         0.01176471 0.         0.         0.7372549  0.74509804 0.75294118 0.75686275 0.75686275 0.76078431 0.75686275 0.76078431\n",
            "  0.76470588 0.73333333 0.77647059 0.42352941 0.         0.00392157 0.         0.         0.         0.         0.        ]\n",
            " [0.         0.         0.         0.         0.         0.         0.01176471 0.         0.00392157 0.74117647 0.74901961 0.75294118 0.75686275 0.76078431 0.76078431 0.76078431 0.75686275\n",
            "  0.76470588 0.74901961 0.78039216 0.48627451 0.         0.00392157 0.         0.         0.         0.         0.        ]\n",
            " [0.         0.         0.         0.         0.         0.         0.01176471 0.         0.         0.7372549  0.74117647 0.74117647 0.72941176 0.72941176 0.72941176 0.72941176 0.72941176\n",
            "  0.74509804 0.74117647 0.78431373 0.47843137 0.         0.00392157 0.         0.         0.         0.         0.        ]\n",
            " [0.         0.         0.         0.         0.         0.         0.01568627 0.         0.03137255 0.79215686 0.79607843 0.80392157 0.88627451 0.89411765 0.89803922 0.89803922 0.89803922\n",
            "  0.90588235 0.79607843 0.85098039 0.58823529 0.         0.02745098 0.         0.         0.         0.         0.        ]\n",
            " [0.         0.         0.         0.         0.         0.         0.01176471 0.         0.01568627 0.57254902 0.44705882 0.40392157 0.4        0.41960784 0.40784314 0.40784314 0.41568627\n",
            "  0.40784314 0.39607843 0.51764706 0.30980392 0.         0.01176471 0.         0.         0.         0.         0.        ]]\n"
          ],
          "name": "stdout"
        },
        {
          "output_type": "display_data",
          "data": {
            "image/png": "[encoded data removed]",
            "text/plain": [
              "<Figure size 432x288 with 1 Axes>"
            ]
          },
          "metadata": {
            "tags": [],
            "needs_background": "light"
          }
        }
      ]
    },
    {
      "cell_type": "code",
      "metadata": {
        "id": "yn2OOB1elpx_",
        "colab_type": "code",
        "colab": {}
      },
      "source": [
        "\n",
        "callbacks = myCallback()\n",
        "model = tf.keras.models.Sequential([\n",
        "                                    tf.keras.layers.Flatten(input_shape = (28,28)),\n",
        "                                    tf.keras.layers.Dense(512, activation=tf.nn.relu),\n",
        "                                    tf.keras.layers.Dense(10, activation=tf.nn.softmax)\n",
        "])"
      ],
      "execution_count": 21,
      "outputs": []
    },
    {
      "cell_type": "code",
      "metadata": {
        "id": "Ax_6Av3zlru3",
        "colab_type": "code",
        "colab": {}
      },
      "source": [
        "model.compile(optimizer = tf.optimizers.Adam(),\n",
        "              loss = 'sparse_categorical_crossentropy',\n",
        "              metrics=['accuracy'])\n",
        "\n",
        "model.fit(X_train, y_train, epochs=20,callbacks=[callbacks])"
      ],
      "execution_count": null,
      "outputs": []
    },
    {
      "cell_type": "code",
      "metadata": {
        "id": "0LJsgMNDluFg",
        "colab_type": "code",
        "colab": {}
      },
      "source": [
        "model.evaluate(X_test, y_test)"
      ],
      "execution_count": null,
      "outputs": []
    }
  ]
}